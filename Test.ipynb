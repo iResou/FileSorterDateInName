{
 "cells": [
  {
   "cell_type": "code",
   "execution_count": 1,
   "metadata": {},
   "outputs": [
    {
     "name": "stdout",
     "output_type": "stream",
     "text": [
      "WhatsApp Video 2022-11-14 at 10.35.10 AM.mp4\n",
      "<re.Match object; span=(15, 25), match='2022-11-14'>\n"
     ]
    }
   ],
   "source": [
    "\n",
    "import shutil, os, re\n",
    "from PIL import Image\n",
    "import datetime\n",
    "from datetime import datetime\n",
    "\n",
    "parent_dir = \"Result/\" # for my system\n",
    "photo_dir = 'Input/' # OR os.getcwd()\n",
    "# parent_dir = photo_dir[photo_dir.rfind('/')] ## FOR WINDOWS\n",
    "photos, a = [], []\n",
    "\n",
    "# parent_dir += \"\\\\\" ## For Windows\n",
    "# photo_dir += \"\\\\\" ## For Windows\n",
    "\n",
    "for photo in os.walk(photo_dir):\n",
    "    photos += [photo]\n",
    "    \n",
    "for i in photos:\n",
    "    for j in i:\n",
    "        if type(j) == list and not j == []:\n",
    "            a += j\n",
    "    \n",
    "### Assuming all photos are in the same directory ###\n",
    "\n",
    "for images in a:\n",
    "    print(images)\n",
    "    match1 = re.search( r'\\d{4}-\\d{2}-\\d{2}', images)\n",
    "    print(match1)\n",
    "    match2 = re.search( r'\\d{8}', images)\n",
    "    if match1:\n",
    "        date = str(datetime.strptime(match1.group(), '%Y-%m-%d').date())\n",
    "    if match2:\n",
    "        date = str(datetime.strptime(match2.group(), '%Y%m%d').date())\n",
    "    if os.path.isdir(parent_dir + date):\n",
    "        shutil.move(photo_dir + images, parent_dir + date)\n",
    "    else:\n",
    "        os.mkdir(parent_dir + date)\n",
    "        shutil.move(photo_dir + images, parent_dir + date)"
   ]
  }
 ],
 "metadata": {
  "kernelspec": {
   "display_name": "Python 3.11.0 64-bit",
   "language": "python",
   "name": "python3"
  },
  "language_info": {
   "codemirror_mode": {
    "name": "ipython",
    "version": 3
   },
   "file_extension": ".py",
   "mimetype": "text/x-python",
   "name": "python",
   "nbconvert_exporter": "python",
   "pygments_lexer": "ipython3",
   "version": "3.11.0"
  },
  "orig_nbformat": 4,
  "vscode": {
   "interpreter": {
    "hash": "c0ad0f006c63bc6a45a0d9f154e9efc9c2a137a34a230264c3936cd8565d84ba"
   }
  }
 },
 "nbformat": 4,
 "nbformat_minor": 2
}
